{
 "cells": [
  {
   "cell_type": "markdown",
   "metadata": {
    "colab_type": "text",
    "id": "6I1W1y5zDCIN"
   },
   "source": [
    "# Before your start:\n",
    "- Comment as much as you can\n",
    "- Happy learning!"
   ]
  },
  {
   "cell_type": "code",
   "execution_count": 1,
   "metadata": {
    "colab": {},
    "colab_type": "code",
    "id": "1t-NDi5NDCIW"
   },
   "outputs": [],
   "source": [
    "import numpy as np\n",
    "import pandas as pd"
   ]
  },
  {
   "cell_type": "markdown",
   "metadata": {
    "colab_type": "text",
    "id": "P53qCn3xDCIg"
   },
   "source": [
    "# Inside a function\n",
    "You are already familiar with several built in functions on python as well as libraries.  \n",
    "Let's try to figure out how they are made in pure python. "
   ]
  },
  {
   "cell_type": "markdown",
   "metadata": {
    "colab_type": "text",
    "id": "7Vq9tOLcDCIi"
   },
   "source": [
    "Create a function that `returns the count` of a list of numbers"
   ]
  },
  {
   "cell_type": "code",
   "execution_count": 2,
   "metadata": {},
   "outputs": [],
   "source": [
    "test_list = [1,2,3,4,5,6,7,8,9,10,12,13]\n"
   ]
  },
  {
   "cell_type": "code",
   "execution_count": 3,
   "metadata": {},
   "outputs": [
    {
     "data": {
      "text/plain": [
       "12"
      ]
     },
     "execution_count": 3,
     "metadata": {},
     "output_type": "execute_result"
    }
   ],
   "source": [
    "# Your code here\n",
    "\n",
    "def count_num(lst):\n",
    "    \"\"\" Count numbers of a list \"\"\"\n",
    "    return len(lst)\n",
    "\n",
    "count_num(test_list)\n"
   ]
  },
  {
   "cell_type": "markdown",
   "metadata": {
    "colab_type": "text",
    "id": "02PYrNc5DCIt"
   },
   "source": [
    "Create a function that `returns the mean` of a list of numbers"
   ]
  },
  {
   "cell_type": "code",
   "execution_count": 4,
   "metadata": {},
   "outputs": [
    {
     "data": {
      "text/plain": [
       "6.666666666666667"
      ]
     },
     "execution_count": 4,
     "metadata": {},
     "output_type": "execute_result"
    }
   ],
   "source": [
    "# Your code here\n",
    "\n",
    "def mean_num(lst):\n",
    "    \"\"\" Calculates mean of a list of numbers \"\"\"\n",
    "    return np.mean(lst)\n",
    "\n",
    "mean_num(test_list)\n"
   ]
  },
  {
   "cell_type": "code",
   "execution_count": 17,
   "metadata": {},
   "outputs": [
    {
     "data": {
      "text/plain": [
       "6.666666666666667"
      ]
     },
     "execution_count": 17,
     "metadata": {},
     "output_type": "execute_result"
    }
   ],
   "source": [
    "# Option 2\n",
    "\n",
    "def mean_list(list_elements):\n",
    "    \"\"\" This function returns the mean of elements in a list \"\"\"\n",
    "    mean_list = sum(list_elements) / len(list_elements)\n",
    "    return mean_list\n",
    "\n",
    "mean_list(test_list)\n"
   ]
  },
  {
   "cell_type": "markdown",
   "metadata": {
    "colab_type": "text",
    "id": "xy1rA4EeDCI5"
   },
   "source": [
    "Create a function that `returns the standard deviation` of a list of numbers using the previous functions you created. "
   ]
  },
  {
   "cell_type": "code",
   "execution_count": 5,
   "metadata": {},
   "outputs": [
    {
     "data": {
      "text/plain": [
       "3.704"
      ]
     },
     "execution_count": 5,
     "metadata": {},
     "output_type": "execute_result"
    }
   ],
   "source": [
    "# Your code here\n",
    "\n",
    "def stv_num(lst):\n",
    "    \n",
    "    \"\"\"\n",
    "    Returns the standard deviation of a list of numbers\n",
    "    using the functions count_num() and mean_num()\n",
    "    \"\"\"\n",
    "    \n",
    "    stv_count = float(count_num(lst))\n",
    "    stv_mean = float(mean_num(lst))\n",
    "    \n",
    "    floats_list = [abs(i - stv_mean) ** 2 for i in lst]\n",
    "    \n",
    "    return round(((sum(floats_list) / stv_count) ** 0.5), 3)\n",
    "\n",
    "stv_num(test_list)\n"
   ]
  },
  {
   "cell_type": "code",
   "execution_count": 6,
   "metadata": {},
   "outputs": [
    {
     "name": "stdout",
     "output_type": "stream",
     "text": [
      "\u001b[1;43m Standard deviation is: 3.704 \n",
      "\n"
     ]
    }
   ],
   "source": [
    "print(f\"\\033[1;43m Standard deviation is: {stv_num(test_list)} \")\n",
    "print('')\n"
   ]
  },
  {
   "cell_type": "code",
   "execution_count": 7,
   "metadata": {},
   "outputs": [
    {
     "name": "stdout",
     "output_type": "stream",
     "text": [
      "\u001b[1;43m Standard deviation is: 3.704 \n"
     ]
    }
   ],
   "source": [
    "# Your code here - option with numpy std()\n",
    "\n",
    "def stv_num(lst):\n",
    "    \"\"\"\n",
    "    Returns the standard deviation of a list of numbers\n",
    "    using the functions count_num() and mean_num()\n",
    "    \"\"\"\n",
    "    return print(f\"\\033[1;43m Standard deviation is: {round(np.std(lst), 3)} \")\n",
    "\n",
    "stv_num(test_list)\n"
   ]
  },
  {
   "cell_type": "markdown",
   "metadata": {
    "colab_type": "text",
    "id": "Dro2ll4WDCJB"
   },
   "source": [
    "Create a function that `returns the count, mean and standard deviation` of a given list.  \n",
    "`Document this function` using triple quotes, your documentation should have description, parameters, returns and examples. "
   ]
  },
  {
   "cell_type": "code",
   "execution_count": 8,
   "metadata": {},
   "outputs": [
    {
     "name": "stdout",
     "output_type": "stream",
     "text": [
      "\u001b[1;43m The list has: 12 number(s) \n",
      "\n",
      "\u001b[1;43m Mean is: 6.7 \n",
      "\n",
      "\u001b[1;43m Standard deviation is: 3.704 \n",
      "\n"
     ]
    }
   ],
   "source": [
    "# Your code here\n",
    "\n",
    "def triple_func(lst):\n",
    "    \"\"\"\n",
    "\n",
    "    For a given list, this function returns a text block with\n",
    "    its count, mean and standard deviation.\n",
    "\n",
    "    Parameters:\n",
    "    argument1 (lst): List of numbers\n",
    "\n",
    "    Returns:\n",
    "    1. Count: Returning value\n",
    "    2. Mean: Returning value\n",
    "    3. Standard deviation: Returning value\n",
    "\n",
    "    \"\"\"\n",
    "    print(f\"\\033[1;43m The list has: {len(lst)} number(s) \")\n",
    "    print('')\n",
    "    print(f\"\\033[1;43m Mean is: {round(np.mean(lst), 1)} \")\n",
    "    print('')\n",
    "    print(f\"\\033[1;43m Standard deviation is: {round(np.std(lst), 3)} \")\n",
    "    print('')\n",
    "\n",
    "triple_func(test_list)\n"
   ]
  },
  {
   "cell_type": "markdown",
   "metadata": {
    "colab_type": "text",
    "id": "-_YUdHo7DCJJ"
   },
   "source": [
    "# String Cleaning\n",
    "When working with textual data you will often have to clean it before being able to analyze it.  \n",
    "Create a function that receives a string and `returns that string in all lower case, without special characters and in alphabetical order`. "
   ]
  },
  {
   "cell_type": "code",
   "execution_count": 9,
   "metadata": {},
   "outputs": [],
   "source": [
    "test_string = \"xnsiAAx_vcdsmc oB.,/?xedxmew\""
   ]
  },
  {
   "cell_type": "code",
   "execution_count": 21,
   "metadata": {},
   "outputs": [
    {
     "data": {
      "text/plain": [
       "\"['a', 'a', 'b', 'c', 'c', 'd', 'd', 'e', 'e', 'i', 'm', 'm', 'n', 'o', 's', 's', 'v', 'w', 'x', 'x', 'x', 'x']\""
      ]
     },
     "execution_count": 21,
     "metadata": {},
     "output_type": "execute_result"
    }
   ],
   "source": [
    "# Your code here\n",
    "\n",
    "def clean_text(i):\n",
    "    import re\n",
    "    return str(sorted(re.sub('[^A-Za-z0-9]+','', test_string))).lower()\n",
    "\n",
    "clean_text(test_string)\n"
   ]
  },
  {
   "cell_type": "code",
   "execution_count": 22,
   "metadata": {},
   "outputs": [
    {
     "data": {
      "text/plain": [
       "'aabccddeeimmnossvwxxxx'"
      ]
     },
     "execution_count": 22,
     "metadata": {},
     "output_type": "execute_result"
    }
   ],
   "source": [
    "# Option 2\n",
    "\n",
    "def string_cleaning(phrase):\n",
    "    #all lower case\n",
    "    phrase = phrase.lower()\n",
    "    #without special characters\n",
    "    phrase = [character for character in phrase if character.isalnum()]\n",
    "    #alphabetical order\n",
    "    phrase.sort()\n",
    "    #join string\n",
    "    phrase = ''.join(phrase)\n",
    "    return phrase\n",
    "\n",
    "string_cleaning(test_string)\n"
   ]
  },
  {
   "cell_type": "markdown",
   "metadata": {
    "colab_type": "text",
    "id": "23s3vEQ-DCJO"
   },
   "source": [
    "# Classification\n",
    "Sometimes datasets provide very good and precise information but not in the way we need to use it.  \n",
    "In this challenge, `make a function` that takes the list below and turns it into a category list. \n",
    "You can use the median to set the center of your  scale:  \n",
    "`\"above the median\", \"median\", \"below the median\"`."
   ]
  },
  {
   "cell_type": "code",
   "execution_count": 11,
   "metadata": {},
   "outputs": [],
   "source": [
    "list_for_classification = [ 50, 120, 30, 10, 90, 70, 10]"
   ]
  },
  {
   "cell_type": "code",
   "execution_count": 12,
   "metadata": {},
   "outputs": [
    {
     "data": {
      "text/plain": [
       "['median',\n",
       " 'above the median',\n",
       " 'below the median',\n",
       " 'below the median',\n",
       " 'above the median',\n",
       " 'above the median',\n",
       " 'below the median']"
      ]
     },
     "execution_count": 12,
     "metadata": {},
     "output_type": "execute_result"
    }
   ],
   "source": [
    "# Your code here\n",
    "\n",
    "scale_center = np.median(list_for_classification)\n",
    "\n",
    "def list_to_category(lst):\n",
    "    category_list = []\n",
    "    for i in lst:\n",
    "        if i == scale_center:\n",
    "            category_list.append(\"median\")\n",
    "        elif i > scale_center:\n",
    "            category_list.append(\"above the median\")\n",
    "        elif i < scale_center:\n",
    "            category_list.append(\"below the median\")\n",
    "    return category_list\n",
    "\n",
    "list_to_category(list_for_classification)\n"
   ]
  },
  {
   "cell_type": "markdown",
   "metadata": {
    "colab_type": "text",
    "id": "qgCz4w1XDCJU"
   },
   "source": [
    "# Recursion \n",
    "In some cases it is interesting to build a function that calls itself.  \n",
    "Use a `recursive function` that asks for an `input` from the users age.  \n",
    "Keeps asking it until the input is a `number between 0 and 150`. "
   ]
  },
  {
   "cell_type": "code",
   "execution_count": 13,
   "metadata": {},
   "outputs": [
    {
     "name": "stdin",
     "output_type": "stream",
     "text": [
      "Enter your age:  -1\n",
      "Enter your age:  151\n",
      "Enter your age:  0\n"
     ]
    }
   ],
   "source": [
    "# Your code here\n",
    "\n",
    "# Option 1\n",
    "\n",
    "def ask_age():\n",
    "    age = int(input(\"Enter your age: \"))\n",
    "    if age > 150:\n",
    "        ask_age()\n",
    "    elif age < 0:\n",
    "        ask_age()\n",
    "    else:\n",
    "        return age\n",
    "\n",
    "ask_age()\n"
   ]
  },
  {
   "cell_type": "code",
   "execution_count": 14,
   "metadata": {},
   "outputs": [
    {
     "name": "stdin",
     "output_type": "stream",
     "text": [
      "Enter your age:  -1\n"
     ]
    },
    {
     "name": "stdout",
     "output_type": "stream",
     "text": [
      "Sorry, I didn't understand that.\n"
     ]
    },
    {
     "name": "stdin",
     "output_type": "stream",
     "text": [
      "Enter your age:  151\n"
     ]
    },
    {
     "name": "stdout",
     "output_type": "stream",
     "text": [
      "Sorry, I didn't understand that.\n"
     ]
    },
    {
     "name": "stdin",
     "output_type": "stream",
     "text": [
      "Enter your age:  18\n"
     ]
    },
    {
     "name": "stdout",
     "output_type": "stream",
     "text": [
      "Your age is 18.\n"
     ]
    }
   ],
   "source": [
    "# Your code here\n",
    "\n",
    "# Option 2\n",
    "\n",
    "def ask_age():\n",
    "    \n",
    "    while True:\n",
    "        try:\n",
    "            age = int(input(\"Enter your age: \"))\n",
    "        except ValueError:\n",
    "            print(\"Sorry, I didn't understand that.\")\n",
    "            continue\n",
    "        else:\n",
    "            break\n",
    "\n",
    "    if age >= 0 and age <= 150:\n",
    "        print(f\"Your age is {age}.\")\n",
    "    else:\n",
    "        print(\"Sorry, I didn't understand that.\")\n",
    "        ask_age()\n",
    "\n",
    "ask_age()\n"
   ]
  },
  {
   "cell_type": "code",
   "execution_count": 24,
   "metadata": {},
   "outputs": [],
   "source": [
    "# Option 3\n",
    "\n",
    "def number150():\n",
    "    number = input(\"Please insert your age\")\n",
    "    if number.isalpha():\n",
    "        number150()\n",
    "    else:\n",
    "        if int(number)>150:\n",
    "            number150()\n",
    "        elif int(number)<0:\n",
    "            number150()\n",
    "        else:\n",
    "            return f\"Your Age is {number}\"\n",
    "        "
   ]
  },
  {
   "cell_type": "code",
   "execution_count": 25,
   "metadata": {},
   "outputs": [
    {
     "name": "stdin",
     "output_type": "stream",
     "text": [
      "Please insert your age 39\n"
     ]
    },
    {
     "data": {
      "text/plain": [
       "'Your Age is 39'"
      ]
     },
     "execution_count": 25,
     "metadata": {},
     "output_type": "execute_result"
    }
   ],
   "source": [
    "number150()"
   ]
  },
  {
   "cell_type": "markdown",
   "metadata": {
    "colab_type": "text",
    "id": "k0oT8Xo2DCJa"
   },
   "source": [
    "# Global and local variables "
   ]
  },
  {
   "cell_type": "markdown",
   "metadata": {},
   "source": [
    "Make a function sort as words in alphabetical order.  \n",
    "Expected output:\n",
    "````python\n",
    "'AI Big Data Data Warehouse Machine Learning Pipeline'\n",
    "````"
   ]
  },
  {
   "cell_type": "markdown",
   "metadata": {},
   "source": [
    "Make the function using local variables"
   ]
  },
  {
   "cell_type": "code",
   "execution_count": 15,
   "metadata": {},
   "outputs": [
    {
     "data": {
      "text/plain": [
       "'AI Big Data Data Warehouse Machine Learning Pipeline'"
      ]
     },
     "execution_count": 15,
     "metadata": {},
     "output_type": "execute_result"
    }
   ],
   "source": [
    "# Your code here\n",
    "\n",
    "import re\n",
    "\n",
    "def alphabetical_order_local():\n",
    "    local_variable =  \"Big Data, Machine Learning, AI, Data Warehouse, Pipeline\"\n",
    "    sort_local = sorted(re.split(', ', local_variable))\n",
    "    return \" \".join(str(i) for i in sort_local)\n",
    "\n",
    "alphabetical_order_local()\n"
   ]
  },
  {
   "cell_type": "markdown",
   "metadata": {},
   "source": [
    "Make the function using global variables"
   ]
  },
  {
   "cell_type": "code",
   "execution_count": 16,
   "metadata": {},
   "outputs": [
    {
     "data": {
      "text/plain": [
       "'AI Big Data Data Warehouse Machine Learning Pipeline'"
      ]
     },
     "execution_count": 16,
     "metadata": {},
     "output_type": "execute_result"
    }
   ],
   "source": [
    "# Your code here\n",
    "\n",
    "import re\n",
    "\n",
    "global_variable = \"Big Data, Machine Learning, AI, Data Warehouse, Pipeline\"\n",
    "sort_global = sorted(re.split(', ', global_variable))\n",
    "\n",
    "def alphabetical_order_global(lst):\n",
    "  return \" \".join(str(i) for i in lst)\n",
    "\n",
    "alphabetical_order_global(sort_global)\n"
   ]
  },
  {
   "cell_type": "code",
   "execution_count": null,
   "metadata": {},
   "outputs": [],
   "source": []
  }
 ],
 "metadata": {
  "colab": {
   "name": "functional_programming.ipynb",
   "provenance": []
  },
  "kernelspec": {
   "display_name": "Python 3",
   "language": "python",
   "name": "python3"
  },
  "language_info": {
   "codemirror_mode": {
    "name": "ipython",
    "version": 3
   },
   "file_extension": ".py",
   "mimetype": "text/x-python",
   "name": "python",
   "nbconvert_exporter": "python",
   "pygments_lexer": "ipython3",
   "version": "3.9.5"
  },
  "toc": {
   "base_numbering": 1,
   "nav_menu": {},
   "number_sections": true,
   "sideBar": true,
   "skip_h1_title": false,
   "title_cell": "Table of Contents",
   "title_sidebar": "Contents",
   "toc_cell": false,
   "toc_position": {},
   "toc_section_display": true,
   "toc_window_display": false
  },
  "varInspector": {
   "cols": {
    "lenName": 16,
    "lenType": 16,
    "lenVar": 40
   },
   "kernels_config": {
    "python": {
     "delete_cmd_postfix": "",
     "delete_cmd_prefix": "del ",
     "library": "var_list.py",
     "varRefreshCmd": "print(var_dic_list())"
    },
    "r": {
     "delete_cmd_postfix": ") ",
     "delete_cmd_prefix": "rm(",
     "library": "var_list.r",
     "varRefreshCmd": "cat(var_dic_list()) "
    }
   },
   "types_to_exclude": [
    "module",
    "function",
    "builtin_function_or_method",
    "instance",
    "_Feature"
   ],
   "window_display": false
  }
 },
 "nbformat": 4,
 "nbformat_minor": 4
}
