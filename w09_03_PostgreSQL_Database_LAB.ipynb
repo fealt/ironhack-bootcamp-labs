{
 "cells": [
  {
   "cell_type": "markdown",
   "id": "b9e3ae82-c554-4bff-a25a-c905e04675e4",
   "metadata": {},
   "source": [
    "# Lab | PostgreSQL Database Creation\n",
    "\n",
    "## Introduction\n",
    "As a data expert you work at a car dealership company which sells new cars of various brands and models. \n",
    "Your company is small and new but it has branches in several countries. \n",
    "Now your boss realized your company imperatively needs a database to keep the records about the cars and customers.\n",
    "Your boss trusts you the challenge to design, create, and manage the database.\n",
    "\n",
    "## Design the Database\n",
    "To start the data migration, it was defined that two tables will be created, one for  `cars` and other for `customers`.\n",
    "\n",
    "**1. Creating the Database** \n",
    "\n",
    "Create your database with the tables and columns below:  \n",
    "Cars: `car_id`, `vin`, `manufacturer`, `model`, `car_year`, `color`  \n",
    "Customers: `cust_id`, `cust_name`, `cust_phone`, `cust_email`, `cust_adress`, `cust_zipcode`"
   ]
  },
  {
   "cell_type": "code",
   "execution_count": 8,
   "id": "6dabf5f8-8e36-4fff-8a5c-cc1ee4676d4f",
   "metadata": {},
   "outputs": [],
   "source": [
    "# solution"
   ]
  },
  {
   "cell_type": "markdown",
   "id": "2316c432-7b43-456a-815d-fd923691805f",
   "metadata": {},
   "source": [
    "````sql\n",
    "CREATE TABLE cars (\n",
    "    car_id int,\n",
    "    vin varchar,\n",
    "    manufacturer varchar,\n",
    "    model varchar,\n",
    "    car_year int,\n",
    "    color varchar);\n",
    "````"
   ]
  },
  {
   "cell_type": "markdown",
   "id": "5989f775-ea46-4cfc-bf5c-c0a6e7e874c9",
   "metadata": {},
   "source": [
    "````sql\n",
    "CREATE TABLE customers (\n",
    "    cust_id int,\n",
    "    cust_name varchar,\n",
    "    cust_phone varchar,\n",
    "    cust_email varchar,\n",
    "    cust_adress varchar,\n",
    "    cust_zipcode int);\n",
    "````"
   ]
  },
  {
   "cell_type": "markdown",
   "id": "4525a1df-7c70-42d0-97fe-95dafef8d65b",
   "metadata": {},
   "source": [
    "**2. Seeding the Database** \n",
    "\n",
    "The purpose of *database seeding* is to provide some data for your empty database.\n",
    "You'll be using the `INSERT INTO` statement for this purpose. The documentation can be found [here](https://www.postgresql.org/docs/12/sql-insert.html).\n",
    "\n",
    "Here are some examples to insert into your tables:\n",
    "\n",
    "### Cars\n",
    "\n",
    "| car_id | vin | manufacturer | model | car_year | color |\n",
    "| --- | --- | --- | --- | --- | --- |\n",
    "| 0 | 3K096I98581DHSNUP | Volkswagen | Tiguan | 2019 | Blue |\n",
    "| 1 | ZM8G7BEUQZ97IH46V | Peugeot | Rifter | 2019 | Red |\n",
    "| 2 | RKXVNNIHLVVZOUB4M | Ford | Fusion | 2018 | White |\n",
    "| 3 | HKNDGS7CU31E9Z7JW | Toyota | RAV4 | 2018 | Silver |\n",
    "| 4 | DAM41UDN3CHU2WVF6 | Volvo | V60 | 2019 | Gray |\n",
    "| 5 | DAM41UDN3CHU2WVF6 | Volvo | V60 Cross Country | 2019 | Gray |\n",
    "\n",
    "### Customers\n",
    "\n",
    "| cust_id | cust_name | cust_phone | cust_email | cust_adress | cust_zipcode |\n",
    "| --- | --- | --- | --- | --- | --- |\n",
    "| 10001 | Pablo Picasso | +34 636 17 63 82 | - | Paseo de la Chopera 14 Madrid Spain | 28045 |\n",
    "| 20001 | Abraham Lincoln | +1 305 907 7086 | - | 120 SW 8th St Mimia United States | 33130 |\n",
    "| 30001 | Napoléon Bonaparte | +33 1 79 75 40 00 | - | 40 Rue du Colisée Paris France | 75008 |"
   ]
  },
  {
   "cell_type": "code",
   "execution_count": null,
   "id": "144ca1b8-7459-47d3-b215-62af444454c8",
   "metadata": {},
   "outputs": [],
   "source": [
    "# solution"
   ]
  },
  {
   "cell_type": "markdown",
   "id": "8d1b230a-6201-4996-b8dc-458b72ba41c8",
   "metadata": {},
   "source": [
    "````sql\n",
    "INSERT INTO cars\n",
    "VALUES (0, '3K096I98581DHSNUP', 'Volkswagen', 'Tiguan', 2019, 'Blue'), (1, 'ZM8G7BEUQZ97IH46V', 'Peugeot', 'Rifter', 2019, 'Red'), (2, 'RKXVNNIHLVVZOUB4M', 'Ford', 'Fusion', 2018, 'White'), (3, 'HKNDGS7CU31E9Z7JW', 'Toyota', 'RAV4', 2018, 'Silver'), (4, 'DAM41UDN3CHU2WVF6', 'Volvo', 'V60', 2019, 'Gray'), (5, 'DAM41UDN3CHU2WVF6', 'Volvo', 'V60 Cross Country', 2019, 'Gray');\n",
    "````"
   ]
  },
  {
   "cell_type": "markdown",
   "id": "033d4891-9895-4bb1-99a0-8390938fd8e6",
   "metadata": {},
   "source": [
    "<div>\n",
    "    <img src=\"./images/w09_02_PostgreSQL_LAB_01.png\" width=\"1000\"/>\n",
    "</div>"
   ]
  },
  {
   "cell_type": "markdown",
   "id": "8ab84cc2-1fdb-40c9-82e7-859b82022448",
   "metadata": {},
   "source": [
    "````sql\n",
    "INSERT INTO customers\n",
    "VALUES (10001, 'Pablo Picasso', '+34 636 17 63 82', '-', 'Paseo de la Chopera 14 Madrid Spain', 28045), (20001, 'Abraham Lincoln', '+1 305 907 7086', '-', '120 SW 8th St Mimia United States', 33130), (30001, 'Napoléon Bonaparte', '+33 1 79 75 40 00', '-', '40 Rue du Colisée Paris France', 75008)\n",
    "````"
   ]
  },
  {
   "cell_type": "markdown",
   "id": "44e08660-f981-4b57-a7bb-45948b403a0c",
   "metadata": {},
   "source": [
    "<div>\n",
    "    <img src=\"./images/w09_02_PostgreSQL_LAB_02.png\" width=\"1000\"/>\n",
    "</div>"
   ]
  },
  {
   "cell_type": "markdown",
   "id": "7e09277c-4649-477a-a71f-393bf3ac534b",
   "metadata": {},
   "source": [
    "**3. Updating and Deleting Database Records**  \n",
    "\n",
    "**3.1. Now you find an error you need to fix in your existing data - in the Customers table, you mistakenly spelled *Miami* as *Mimia* for Abraham Lincoln.**"
   ]
  },
  {
   "cell_type": "code",
   "execution_count": 9,
   "id": "4ce3c538-9fd3-4345-9fc6-3e2a549c864b",
   "metadata": {},
   "outputs": [],
   "source": [
    "# solution"
   ]
  },
  {
   "cell_type": "markdown",
   "id": "3eafdd66-5c3c-44a2-bb18-224b98059f4b",
   "metadata": {},
   "source": [
    "<div>\n",
    "    <img src=\"./images/w09_02_PostgreSQL_LAB_03.png\" width=\"1000\"/>\n",
    "</div>"
   ]
  },
  {
   "cell_type": "markdown",
   "id": "80377a35-0017-4f42-a0fd-ce7fba38eb07",
   "metadata": {},
   "source": [
    "**3.2. Also, you received the email addresses of the three customers:**\n",
    "\n",
    "| Name | Email |\n",
    "| --- | ---|\n",
    "| Pablo Picasso | ppicasso@gmail.com |\n",
    "| Abraham Lincoln | lincoln@us.gov |\n",
    "| Napoléon Bonaparte | hello@napoleon.me |"
   ]
  },
  {
   "cell_type": "code",
   "execution_count": null,
   "id": "5cb0dcb8-3178-4de6-95f9-426fe35bc918",
   "metadata": {},
   "outputs": [],
   "source": [
    "# solution"
   ]
  },
  {
   "cell_type": "markdown",
   "id": "d76edc28-a093-4aa6-9cd8-c1f1c1f6acf0",
   "metadata": {},
   "source": [
    "````sql\n",
    "UPDATE customers\n",
    "SET cust_email = 'ppicasso@gmail.com'\n",
    "WHERE cust_name = 'Pablo Picasso';\n",
    "\n",
    "UPDATE customers\n",
    "SET cust_email = 'lincoln@us.gov'\n",
    "WHERE cust_name = 'Abraham Lincoln';\n",
    "\n",
    "UPDATE customers\n",
    "SET cust_email = 'hello@napoleon.me'\n",
    "WHERE cust_name = 'Napoléon Bonaparte';\n",
    "````"
   ]
  },
  {
   "cell_type": "markdown",
   "id": "1f5a8e3d-2ad4-4aea-8a67-5a38e60f674d",
   "metadata": {},
   "source": [
    "<div>\n",
    "    <img src=\"./images/w09_02_PostgreSQL_LAB_04.png\" width=\"1000\"/>\n",
    "</div>"
   ]
  },
  {
   "cell_type": "markdown",
   "id": "729dc6a6-702c-4eea-90ad-49e668cdb6ba",
   "metadata": {},
   "source": [
    "**3.3. In addition, you also find a duplicated car entry for VIN `DAM41UDN3CHU2WVF6`. You want to delete car ID #4 from the database.**"
   ]
  },
  {
   "cell_type": "code",
   "execution_count": 10,
   "id": "b2ae4e8f-73f4-4a65-b4a0-90ed86e73878",
   "metadata": {},
   "outputs": [],
   "source": [
    "# solution"
   ]
  },
  {
   "cell_type": "markdown",
   "id": "e717d579-c535-4002-8111-853486b698b4",
   "metadata": {},
   "source": [
    "````sql\n",
    "DELETE FROM cars\n",
    "WHERE car_id='4';\n",
    "\n",
    "SELECT *\n",
    "FROM cars;\n",
    "````"
   ]
  },
  {
   "cell_type": "markdown",
   "id": "0fc4b797-4e0d-4a73-888b-13b250e45a95",
   "metadata": {},
   "source": [
    "<div>\n",
    "    <img src=\"./images/w09_02_PostgreSQL_LAB_05.png\" width=\"1000\"/>\n",
    "</div>"
   ]
  },
  {
   "cell_type": "code",
   "execution_count": null,
   "id": "25fac25e-1c36-40a3-8b1b-cd92a372f0f7",
   "metadata": {},
   "outputs": [],
   "source": []
  }
 ],
 "metadata": {
  "kernelspec": {
   "display_name": "Python 3.9.5 64-bit",
   "language": "python",
   "name": "python395jvsc74a57bd0aee8b7b246df8f9039afb4144a1f6fd8d2ca17a180786b69acc140d282b71a49"
  },
  "language_info": {
   "codemirror_mode": {
    "name": "ipython",
    "version": 3
   },
   "file_extension": ".py",
   "mimetype": "text/x-python",
   "name": "python",
   "nbconvert_exporter": "python",
   "pygments_lexer": "ipython3",
   "version": "3.9.5"
  }
 },
 "nbformat": 4,
 "nbformat_minor": 5
}
