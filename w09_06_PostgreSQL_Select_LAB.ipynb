{
 "cells": [
  {
   "cell_type": "markdown",
   "id": "ab95c830-e882-4a22-ac3e-87dff3e2739a",
   "metadata": {},
   "source": [
    "# Lab | PostgreSQL Select\n",
    "\n",
    "## Introduction\n",
    "In this lab you will practice `SELECT` statement which will be extremely useful in your future work as a data analyst/scientist/engineer.  \n",
    "- Use code from `publications_database.sql` to create your databese, tables and insert data. \n",
    "  \n",
    "**1. Who have published what at where?**\n",
    "\n",
    "In this challenge you will write a PostgreSQL `SELECT` query that `JOIN` various tables to figure out what titles each author has published at which publishers.   \n",
    "Your output should have at least the following columns:  \n",
    "From `authors` table:  \n",
    "- `au_id` - the ID of the author.\n",
    "- `au_lname` - author last name. \n",
    "- `au_fname` - author first name.   \n",
    "\n",
    "From `titles` table:  \n",
    "- `title` - name of the published title.  \n",
    "\n",
    "From `publishers` table:  \n",
    "- `pub_name` - name of the publisher where the title was published.\n",
    "\n",
    "Your output will look something like below:\n",
    "\n",
    "![Challenge 1 output](./images/challenge-1.png)\n",
    "\n",
    "*Note: the screenshot above is not the complete output.*\n",
    "\n",
    "If your query is correct, the total rows in your output should be the same as the total number of records in table `titleauthor`."
   ]
  },
  {
   "cell_type": "code",
   "execution_count": null,
   "id": "d9c0c672-41f0-4ddf-8484-e91843652b7c",
   "metadata": {},
   "outputs": [],
   "source": []
  },
  {
   "cell_type": "markdown",
   "id": "a1fa7e4e-bdcf-4e1d-8eb3-1bb3ca449d37",
   "metadata": {},
   "source": [
    "**2. Who have published how many at where?**\n",
    "\n",
    "Elevating from your solution in challenge 1, query how many titles each author has published at each publisher. Order your output by the title count in descending order.  \n",
    "\n",
    "Your output should look something like below:\n",
    "\n",
    "![Challenge 2 output](./images/challenge-2.png)\n",
    "\n",
    "*Note: the screenshot above is not the complete output.*  \n",
    "\n",
    "To check if your output is correct, sum up the `TITLE COUNT` column. The sum number should be the same as the total number of records in Table `titleauthor`.  \n",
    "\n",
    "*Hint: In order to count the number of titles published by an author, you need to use [COUNT](https://www.w3resource.com/PostgreSQL/postgresql-count-function.php).  Also check out [GROUP BY](https://www.w3resource.com/PostgreSQL/postgresql-group-by.php) because you will count the rows of different groups of data.*"
   ]
  },
  {
   "cell_type": "code",
   "execution_count": null,
   "id": "4a970e15-45eb-4b89-841a-e75ad98ccd85",
   "metadata": {},
   "outputs": [],
   "source": []
  },
  {
   "cell_type": "markdown",
   "id": "f1461f21-da94-40dc-a608-29628db65480",
   "metadata": {},
   "source": [
    "**3. Best Selling Authors**\n",
    "\n",
    "Who are the top 3 authors who have sold the highest number of titles?   \n",
    "Your output should have at least the following columns:  \n",
    "\n",
    "From `authors` table:  \n",
    "- `au_id` - the ID of the author.\n",
    "- `au_lname` - author last name. \n",
    "- `au_fname` - author first name. \n",
    "  \n",
    "From `sales` table:\n",
    "- `qty` - quantity\n",
    "  \n",
    "Your output should be ordered based on `TOTAL` from high to low.  \n",
    "Only output the top 3 best selling authors.\n",
    "\n",
    "Your output should look something like below:\n",
    "\n",
    "![Challenge 3 output](./images/challenge-3.png)"
   ]
  },
  {
   "cell_type": "code",
   "execution_count": null,
   "id": "bd6d51c2-0c86-476c-9302-129717205ddb",
   "metadata": {},
   "outputs": [],
   "source": []
  },
  {
   "cell_type": "markdown",
   "id": "89328cc2-e2e1-428b-aeda-676e0b56561d",
   "metadata": {},
   "source": [
    "**4. Best selling authors ranking**\n",
    "\n",
    "Now modify your solution in challenge 3 so that the output will display all 23 authors instead of the top 3.  Note that the authors who have sold 0 titles should also appear in your output, ideally display `0` instead of `NULL`.   \n",
    "Also order your results based on `TOTAL` from high to low. \n",
    "\n",
    "Your output should look something like below:\n",
    "\n",
    "![Challenge 4 output](./images/challenge-4.png)"
   ]
  },
  {
   "cell_type": "code",
   "execution_count": null,
   "id": "0b873643-a96d-45e2-b2e9-aec0048b6251",
   "metadata": {},
   "outputs": [],
   "source": []
  },
  {
   "cell_type": "code",
   "execution_count": null,
   "id": "9d11e7d5-3cf3-4108-9778-18e4b8fc0e57",
   "metadata": {},
   "outputs": [],
   "source": []
  }
 ],
 "metadata": {
  "kernelspec": {
   "display_name": "Python 3",
   "language": "python",
   "name": "python3"
  },
  "language_info": {
   "codemirror_mode": {
    "name": "ipython",
    "version": 3
   },
   "file_extension": ".py",
   "mimetype": "text/x-python",
   "name": "python",
   "nbconvert_exporter": "python",
   "pygments_lexer": "ipython3",
   "version": "3.8.8"
  }
 },
 "nbformat": 4,
 "nbformat_minor": 5
}
