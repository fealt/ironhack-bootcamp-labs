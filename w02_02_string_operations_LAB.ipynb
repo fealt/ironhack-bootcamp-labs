{
 "cells": [
  {
   "cell_type": "markdown",
   "metadata": {
    "id": "yLuALiyCkUJ3"
   },
   "source": [
    "# Combining Strings\n",
    "\n",
    "Combining strings is an important skill to acquire. There are multiple ways of combining strings in Python, as well as combining strings with variables. We will explore this in the first challenge. In the cell below, combine the strings in the list and add spaces between the strings (do not add a space after the last string). Insert a period after the last string."
   ]
  },
  {
   "cell_type": "code",
   "execution_count": 1,
   "metadata": {},
   "outputs": [],
   "source": [
    "str_list = ['Durante', 'un', 'tiempo', 'no', 'estuvo', 'segura', 'de', 'si', 'su', 'marido', 'era', 'su', 'marido']"
   ]
  },
  {
   "cell_type": "code",
   "execution_count": 2,
   "metadata": {
    "id": "n0LxSL1tkUJ4"
   },
   "outputs": [
    {
     "name": "stdout",
     "output_type": "stream",
     "text": [
      "Durante un tiempo no estuvo segura de si su marido era su marido.\n"
     ]
    }
   ],
   "source": [
    "# Your code here\n",
    "\n",
    "str_list_joined = ' '.join(str_list)\n",
    "\n",
    "print(f'{str_list_joined}.')"
   ]
  },
  {
   "cell_type": "markdown",
   "metadata": {
    "id": "jjnjuDhbkUJ6"
   },
   "source": [
    "In the cell below, use the list of strings to create a grocery list. Start the list with the string `Grocery list: ` and include a comma and a space between each item except for the last one. Include a period at the end. Only include foods in the list that start with the letter 'b' and ensure all foods are lower case.  \n",
    "You should have something like this:  \n",
    "*`Grocery list: bananas, bread, brownie mix, broccoli.`*"
   ]
  },
  {
   "cell_type": "code",
   "execution_count": 3,
   "metadata": {},
   "outputs": [],
   "source": [
    "food_list = ['Bananas', 'Chocolate', 'bread', 'diapers', 'Ice Cream', 'Brownie Mix', 'broccoli']"
   ]
  },
  {
   "cell_type": "code",
   "execution_count": 4,
   "metadata": {},
   "outputs": [
    {
     "name": "stdout",
     "output_type": "stream",
     "text": [
      "Grocery list: bananas, bread, brownie mix, broccoli.\n"
     ]
    }
   ],
   "source": [
    "# Your code here - Option 1\n",
    "\n",
    "food_list_new = []\n",
    "for i in food_list:\n",
    "    if i.startswith('b') or i.startswith('B'):\n",
    "        food_list_new.append(i)\n",
    "\n",
    "grocery_list = (', '.join(food_list_new)).lower()\n",
    "\n",
    "print(f'Grocery list: {grocery_list}.')"
   ]
  },
  {
   "cell_type": "code",
   "execution_count": 5,
   "metadata": {},
   "outputs": [
    {
     "data": {
      "text/plain": [
       "'Grocery list: bananas, bread, brownie mix, broccoli.'"
      ]
     },
     "execution_count": 5,
     "metadata": {},
     "output_type": "execute_result"
    }
   ],
   "source": [
    "# Option 2\n",
    "\n",
    "food_list_b = []\n",
    "for food in food_list:\n",
    "    food = food.lower()\n",
    "    if food.startswith('b'):\n",
    "        food_list_b.append(food)\n",
    "\n",
    "grocery = 'Grocery list: ' + ', '.join(food_list_b)+ '.'\n",
    "grocery\n"
   ]
  },
  {
   "cell_type": "markdown",
   "metadata": {
    "id": "5wUx1N0gkUJ_"
   },
   "source": [
    "# Splitting Strings\n",
    "\n",
    "We have first looked at combining strings into one long string. There are times where we need to do the opposite and split the string into smaller components for further analysis. \n",
    "\n",
    "In the cell below, split the string into a list of strings using the space delimiter. Count the frequency of each word in the string in a dictionary. Strip the periods, line breaks and commas from the text. Make sure to remove empty strings from your dictionary."
   ]
  },
  {
   "cell_type": "code",
   "execution_count": 6,
   "metadata": {
    "id": "5kCqHBEUkUKA"
   },
   "outputs": [],
   "source": [
    "poem = \"\"\"Some say the world will end in fire,\n",
    "Some say in ice.\n",
    "From what I’ve tasted of desire\n",
    "I hold with those who favor fire.\n",
    "But if it had to perish twice,\n",
    "I think I know enough of hate\n",
    "To say that for destruction ice\n",
    "Is also great\n",
    "And would suffice.\"\"\""
   ]
  },
  {
   "cell_type": "code",
   "execution_count": 7,
   "metadata": {},
   "outputs": [
    {
     "name": "stdout",
     "output_type": "stream",
     "text": [
      "['some', 'say', 'the', 'world', 'will', 'end', 'in', 'fire', 'some', 'say', 'in', 'ice', 'from', 'what', 'i’ve', 'tasted', 'of', 'desire', 'i', 'hold', 'with', 'those', 'who', 'favor', 'fire', 'but', 'if', 'it', 'had', 'to', 'perish', 'twice', 'i', 'think', 'i', 'know', 'enough', 'of', 'hate', 'to', 'say', 'that', 'for', 'destruction', 'ice', 'is', 'also', 'great', 'and', 'would', 'suffice']\n"
     ]
    }
   ],
   "source": [
    "# Your code here\n",
    "\n",
    "poem_list = poem.lower().replace('\\n', ' ').replace('.', '').replace(',', '').split()\n",
    "\n",
    "print(poem_list)"
   ]
  },
  {
   "cell_type": "code",
   "execution_count": 8,
   "metadata": {},
   "outputs": [
    {
     "name": "stdout",
     "output_type": "stream",
     "text": [
      "{'for': 1, 'enough': 1, 'hold': 1, 'fire': 2, 'that': 1, 'also': 1, 'tasted': 1, 'if': 1, 'desire': 1, 'it': 1, 'i': 3, 'of': 2, 'think': 1, 'and': 1, 'with': 1, 'to': 2, 'hate': 1, 'i’ve': 1, 'great': 1, 'would': 1, 'perish': 1, 'from': 1, 'those': 1, 'say': 3, 'is': 1, 'ice': 2, 'what': 1, 'had': 1, 'world': 1, 'favor': 1, 'know': 1, 'some': 2, 'destruction': 1, 'the': 1, 'will': 1, 'suffice': 1, 'but': 1, 'who': 1, 'twice': 1, 'in': 2, 'end': 1}\n"
     ]
    }
   ],
   "source": [
    "# Option 1\n",
    "\n",
    "poem_dict = dict((i, poem_list.count(i)) for i in set(poem_list))\n",
    "\n",
    "print(poem_dict)\n"
   ]
  },
  {
   "cell_type": "code",
   "execution_count": 9,
   "metadata": {},
   "outputs": [
    {
     "name": "stdout",
     "output_type": "stream",
     "text": [
      "{'some': 2, 'say': 3, 'the': 1, 'world': 1, 'will': 1, 'end': 1, 'in': 2, 'fire': 2, 'ice': 2, 'from': 1, 'what': 1, 'i’ve': 1, 'tasted': 1, 'of': 2, 'desire': 1, 'i': 3, 'hold': 1, 'with': 1, 'those': 1, 'who': 1, 'favor': 1, 'but': 1, 'if': 1, 'it': 1, 'had': 1, 'to': 2, 'perish': 1, 'twice': 1, 'think': 1, 'know': 1, 'enough': 1, 'hate': 1, 'that': 1, 'for': 1, 'destruction': 1, 'is': 1, 'also': 1, 'great': 1, 'and': 1, 'would': 1, 'suffice': 1}\n"
     ]
    }
   ],
   "source": [
    "# Option 2\n",
    "\n",
    "poem_dict = {}\n",
    "\n",
    "for word in poem_list:\n",
    "    poem_dict[word] = poem_list.count(word)\n",
    "    \n",
    "print(poem_dict)\n"
   ]
  },
  {
   "cell_type": "markdown",
   "metadata": {
    "id": "84q3YtTEkUKC"
   },
   "source": [
    "In the cell below, find all the words that appear in the text and do not appear in the `reject_list`.  \n",
    "You must parse the string but can choose any data structure you wish for the words that do not appear in the `reject_list`.  \n",
    "Remove all non letter characters and convert all words to lower case."
   ]
  },
  {
   "cell_type": "code",
   "execution_count": 10,
   "metadata": {
    "id": "Xx0iP3skkUKE"
   },
   "outputs": [],
   "source": [
    "reject_list = ['and', 'as', 'an', 'a', 'the', 'in', 'it']\n",
    "\n",
    "poem = \"\"\"I was angry with my friend; \n",
    "I told my wrath, my wrath did end.\n",
    "I was angry with my foe: \n",
    "I told it not, my wrath did grow. \n",
    "\n",
    "And I waterd it in fears,\n",
    "Night & morning with my tears: \n",
    "And I sunned it with smiles,\n",
    "And with soft deceitful wiles. \n",
    "\n",
    "And it grew both day and night. \n",
    "Till it bore an apple bright. \n",
    "And my foe beheld it shine,\n",
    "And he knew that it was mine. \n",
    "\n",
    "And into my garden stole, \n",
    "When the night had veild the pole; \n",
    "In the morning glad I see; \n",
    "My foe outstretched beneath the tree.\"\"\""
   ]
  },
  {
   "cell_type": "code",
   "execution_count": 11,
   "metadata": {},
   "outputs": [
    {
     "name": "stdout",
     "output_type": "stream",
     "text": [
      "{'morning', 'outstretched', 'endi', 'glad', 'friend', 'foe', 'grow', 'that', 'knew', 'sunned', 'pole', 'i', 'with', 'bore', 'tree', 'smilesand', 'angry', 'day', 'stole', 'veild', 'told', 'tears', 'grew', 'night', 'when', 'both', 'bright', 'soft', 'fearsnight', 'wiles', 'did', 'waterd', 'mine', 'had', 'apple', 'was', 'beheld', 'he', 'not', 'wrath', 'my', 'see', 'beneath', 'till', 'deceitful', 'garden', 'shineand', 'into'}\n"
     ]
    }
   ],
   "source": [
    "# Your code here\n",
    "\n",
    "poem_list = poem.lower()\\\n",
    "    .replace('\\n', '')\\\n",
    "    .replace('.', '')\\\n",
    "    .replace(',', '')\\\n",
    "    .replace(';', '')\\\n",
    "    .replace(':', '')\\\n",
    "    .replace('& ', '')\\\n",
    "    .split()\n",
    "\n",
    "unique_words = set(poem_list) - set(reject_list)\n",
    "\n",
    "print(unique_words)"
   ]
  },
  {
   "cell_type": "markdown",
   "metadata": {
    "id": "LKji8o7ayAba"
   },
   "source": [
    "# Regular Expressions - regex"
   ]
  },
  {
   "cell_type": "markdown",
   "metadata": {},
   "source": [
    "First of all, `import regex` module."
   ]
  },
  {
   "cell_type": "code",
   "execution_count": 12,
   "metadata": {},
   "outputs": [],
   "source": [
    "import re"
   ]
  },
  {
   "cell_type": "markdown",
   "metadata": {},
   "source": [
    "Obtain a list containing all phone numbers in the text below:  \n",
    "*Note: There should be 5 of them.*"
   ]
  },
  {
   "cell_type": "code",
   "execution_count": 13,
   "metadata": {
    "id": "wM4v-225yBNP"
   },
   "outputs": [],
   "source": [
    "text = \"\"\"\n",
    "Henry's phone number is 9789-0984\n",
    "Darlene's phone number is 4222-0901\n",
    "Andrew's phone number is 4312-5701\n",
    "James' phone number is 9413 1383\n",
    "Erica's phone number is 8993-1031\n",
    "\"\"\""
   ]
  },
  {
   "cell_type": "code",
   "execution_count": 21,
   "metadata": {},
   "outputs": [
    {
     "name": "stdout",
     "output_type": "stream",
     "text": [
      "['9789-0984', '4222-0901', '4312-5701', '9413 1383', '8993-1031']\n"
     ]
    }
   ],
   "source": [
    "# Your code here - Option 1\n",
    "\n",
    "phone_num = []\n",
    "for i in re.findall('\\d.+\\d', text):\n",
    "    phone_num.append(i)\n",
    "    \n",
    "print(phone_num)\n"
   ]
  },
  {
   "cell_type": "code",
   "execution_count": 23,
   "metadata": {},
   "outputs": [
    {
     "data": {
      "text/plain": [
       "['9789-0984', '4222-0901', '4312-5701', '9413 1383', '8993-1031']"
      ]
     },
     "execution_count": 23,
     "metadata": {},
     "output_type": "execute_result"
    }
   ],
   "source": [
    "# Option 1 without for loop\n",
    "\n",
    "re.findall('\\d.+\\d', text)"
   ]
  },
  {
   "cell_type": "code",
   "execution_count": 22,
   "metadata": {},
   "outputs": [
    {
     "data": {
      "text/plain": [
       "['9789-0984', '4222-0901', '4312-5701', '9413 1383', '8993-1031']"
      ]
     },
     "execution_count": 22,
     "metadata": {},
     "output_type": "execute_result"
    }
   ],
   "source": [
    "# Option 2\n",
    "\n",
    "re.findall('[0-9]{4}[-]? ?[0-9]{4}', text)\n"
   ]
  },
  {
   "cell_type": "code",
   "execution_count": 24,
   "metadata": {},
   "outputs": [
    {
     "data": {
      "text/plain": [
       "['9789-0984', '4222-0901', '4312-5701', '9413 1383', '8993-1031']"
      ]
     },
     "execution_count": 24,
     "metadata": {},
     "output_type": "execute_result"
    }
   ],
   "source": [
    "# Option 3\n",
    "\n",
    "re.findall('\\d{4}[-\\s]?\\d{4}', text)\n"
   ]
  },
  {
   "cell_type": "markdown",
   "metadata": {
    "id": "N7UZNc5lxSzZ"
   },
   "source": [
    "\n",
    "In the cell below, filter the list provided and return all elements of the list containing a number.   \n",
    "To filter the list, use the `re.search` function.  \n",
    "Check if the function does not return None.   \n",
    "You can read more about the `re.search` function [here](https://docs.python.org/3/library/re.html)."
   ]
  },
  {
   "cell_type": "code",
   "execution_count": 15,
   "metadata": {
    "id": "EzUBZKGqxX-A"
   },
   "outputs": [],
   "source": [
    "data = ['123abc', 'abc123', 'JohnSmith1', 'ABBY4', 'JANE']"
   ]
  },
  {
   "cell_type": "code",
   "execution_count": 16,
   "metadata": {},
   "outputs": [
    {
     "name": "stdout",
     "output_type": "stream",
     "text": [
      "['123abc', 'abc123', 'JohnSmith1', 'ABBY4']\n"
     ]
    }
   ],
   "source": [
    "# Your code here\n",
    "\n",
    "data_num = []\n",
    "for i in data:\n",
    "    if re.search('\\d', i):\n",
    "        data_num.append(i)\n",
    "\n",
    "print(data_num)\n"
   ]
  },
  {
   "cell_type": "code",
   "execution_count": 25,
   "metadata": {},
   "outputs": [
    {
     "data": {
      "text/plain": [
       "['123abc', 'abc123', 'JohnSmith1', 'ABBY4']"
      ]
     },
     "execution_count": 25,
     "metadata": {},
     "output_type": "execute_result"
    }
   ],
   "source": [
    "# Option 2\n",
    "\n",
    "elements = ' '.join(data)\n",
    "\n",
    "re.findall('\\S*\\d+\\S*', elements)\n"
   ]
  },
  {
   "cell_type": "markdown",
   "metadata": {},
   "source": [
    "# Bonus "
   ]
  },
  {
   "cell_type": "markdown",
   "metadata": {},
   "source": [
    "### Strings\n",
    "Based on this `reviews` list we want to know the frequency of words that are in the `keywords_list`.  \n",
    "*Pay attention to lower and upper letters, this can change your frequency counting.*\n"
   ]
  },
  {
   "cell_type": "code",
   "execution_count": 17,
   "metadata": {},
   "outputs": [],
   "source": [
    "reviews = [\"Anacell provides the best services in the city whereas betacellular is the best of the world\",\n",
    "  \"cetracular has awesome services, cetracular is good, cetracular is awesome!\",\n",
    "  \"Best services provided by anacell, everyone should use anacell\",\n",
    "  \"Wow, betacellular services are good.\",]\n",
    "keywords_list = [\"anacell\", \"cetracular\", \"betacellular\"]"
   ]
  },
  {
   "cell_type": "code",
   "execution_count": 18,
   "metadata": {},
   "outputs": [
    {
     "name": "stdout",
     "output_type": "stream",
     "text": [
      "Frequency for anacell is: 3.\n",
      "Frequency for cetracular is: 3.\n",
      "Frequency for betacellular is: 2.\n"
     ]
    }
   ],
   "source": [
    "# Your code here\n",
    "\n",
    "reviews_text = str(reviews).lower()\n",
    "\n",
    "anacell = re.findall(keywords_list[0], reviews_text).count('anacell')\n",
    "cetracular = re.findall(keywords_list[1], reviews_text).count('cetracular')\n",
    "betacellular = re.findall(keywords_list[2], reviews_text).count('betacellular')\n",
    "\n",
    "print(f'Frequency for anacell is: {anacell}.')\n",
    "print(f'Frequency for cetracular is: {cetracular}.')\n",
    "print(f'Frequency for betacellular is: {betacellular}.')\n"
   ]
  },
  {
   "cell_type": "code",
   "execution_count": 30,
   "metadata": {},
   "outputs": [
    {
     "data": {
      "text/plain": [
       "{'anacell': 3, 'cetracular': 3, 'betacellular': 2}"
      ]
     },
     "execution_count": 30,
     "metadata": {},
     "output_type": "execute_result"
    }
   ],
   "source": [
    "# Option 2\n",
    "\n",
    "review_str = \" \".join(reviews).lower()\n",
    "\n",
    "freq_dict = {}\n",
    "\n",
    "for word in keywords_list:\n",
    "    freq_dict[word] = review_str.count(word)\n",
    "    \n",
    "freq_dict\n"
   ]
  },
  {
   "cell_type": "markdown",
   "metadata": {
    "id": "A2T86JzMwoLT"
   },
   "source": [
    "### Regular Expressions - regex\n",
    "\n",
    "In the cell below, filter the list provided to keep only strings containing `at least one digit` and `at least one lower case letter`.  \n",
    "As in the previous question, use the `re.search` function and check that the result is not `None`."
   ]
  },
  {
   "cell_type": "code",
   "execution_count": 19,
   "metadata": {
    "id": "rcVk3Gabwomy"
   },
   "outputs": [],
   "source": [
    "data = ['123abc', 'abc123', 'JohnSmith1', 'ABBY4', 'JANE']"
   ]
  },
  {
   "cell_type": "code",
   "execution_count": 20,
   "metadata": {},
   "outputs": [
    {
     "name": "stdout",
     "output_type": "stream",
     "text": [
      "['123abc', 'abc123', 'JohnSmith1']\n"
     ]
    }
   ],
   "source": [
    "# Your code here\n",
    "\n",
    "data_num = []\n",
    "\n",
    "for i in data:\n",
    "    if re.search('\\d*[a-z]', i):\n",
    "        data_num.append(i)\n",
    "\n",
    "print(data_num)\n"
   ]
  },
  {
   "cell_type": "code",
   "execution_count": 31,
   "metadata": {},
   "outputs": [
    {
     "data": {
      "text/plain": [
       "['123abc', 'abc123', 'JohnSmith1']"
      ]
     },
     "execution_count": 31,
     "metadata": {},
     "output_type": "execute_result"
    }
   ],
   "source": [
    "# Option 2\n",
    "\n",
    "list_occ = []\n",
    "\n",
    "for item in data:\n",
    "    if re.findall('(?=.*\\d)(?=.*[a-z]).*', item): \n",
    "        list_occ.append(item) \n",
    "        \n",
    "list_occ\n"
   ]
  },
  {
   "cell_type": "code",
   "execution_count": null,
   "metadata": {},
   "outputs": [],
   "source": []
  }
 ],
 "metadata": {
  "colab": {
   "collapsed_sections": [],
   "name": "main.ipynb",
   "provenance": []
  },
  "kernelspec": {
   "display_name": "Python 3",
   "language": "python",
   "name": "python3"
  },
  "language_info": {
   "codemirror_mode": {
    "name": "ipython",
    "version": 3
   },
   "file_extension": ".py",
   "mimetype": "text/x-python",
   "name": "python",
   "nbconvert_exporter": "python",
   "pygments_lexer": "ipython3",
   "version": "3.9.5"
  },
  "toc": {
   "base_numbering": 1,
   "nav_menu": {},
   "number_sections": true,
   "sideBar": true,
   "skip_h1_title": false,
   "title_cell": "Table of Contents",
   "title_sidebar": "Contents",
   "toc_cell": false,
   "toc_position": {},
   "toc_section_display": true,
   "toc_window_display": false
  },
  "varInspector": {
   "cols": {
    "lenName": 16,
    "lenType": 16,
    "lenVar": 40
   },
   "kernels_config": {
    "python": {
     "delete_cmd_postfix": "",
     "delete_cmd_prefix": "del ",
     "library": "var_list.py",
     "varRefreshCmd": "print(var_dic_list())"
    },
    "r": {
     "delete_cmd_postfix": ") ",
     "delete_cmd_prefix": "rm(",
     "library": "var_list.r",
     "varRefreshCmd": "cat(var_dic_list()) "
    }
   },
   "types_to_exclude": [
    "module",
    "function",
    "builtin_function_or_method",
    "instance",
    "_Feature"
   ],
   "window_display": false
  }
 },
 "nbformat": 4,
 "nbformat_minor": 4
}
