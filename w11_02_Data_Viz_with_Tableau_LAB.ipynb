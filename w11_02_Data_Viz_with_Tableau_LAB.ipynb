{
 "cells": [
  {
   "cell_type": "markdown",
   "id": "175a04f1-bc91-41ac-8571-3ee03ec02d79",
   "metadata": {},
   "source": [
    "![Ironhack logo](https://i.imgur.com/1QgrNNw.png)\n",
    "\n",
    "# Lab | Data Visualization with Tableau\n",
    "\n",
    "## Introduction\n",
    "\n",
    "In this lab, we will practice creating visualizations using the many types of charts and graphs that come with Tableau.\n",
    "\n",
    "The data we will be creating visualizations for will be an American football team statistics data set. The data contains information about individual games teams played, who the opposing team was, what the scores were, and a variety of statistics describing how the team played. You don't have to be familiar with the sport to create the visualizations for this lab, but if you're interested in gaining some context, you can watch [this YouTube video](https://www.youtube.com/watch?v=3t6hM5tRlfA) for a brief high-level overview and read [this Wikipedia entry](https://en.wikipedia.org/wiki/American_football_strategy) to gain a better understanding of the positions and statistics.\n",
    "\n",
    "As in the last lab, if you get stuck on any of the tasks in this lab, you can reference the excellent training video resources provided on the [Tableau website](https://www.tableau.com/learn/training)."
   ]
  },
  {
   "cell_type": "markdown",
   "id": "1c365e03-629d-41ee-b911-921fcbb79825",
   "metadata": {},
   "source": [
    "## Resources\n",
    "\n",
    "- [A Beginner's Guide to American Football](https://www.youtube.com/watch?v=3t6hM5tRlfA)\n",
    "\n",
    "- [American Football Strategy | Wikipedia](https://en.wikipedia.org/wiki/American_football_strategy)\n",
    "\n",
    "- [Sort Data in a Visualization | Tableau](https://onlinehelp.tableau.com/current/pro/desktop/en-us/sortgroup_sorting_computed_howto.htm)\n",
    "\n",
    "- [Filter Data From Your Views | Tableau](https://onlinehelp.tableau.com/current/pro/desktop/en-us/filtering.htm)\n",
    "\n",
    "- [Color Palettes and Effects](https://onlinehelp.tableau.com/current/pro/desktop/en-us/viewparts_marks_markproperties_color.htm)\n",
    "\n",
    "- [Tableau Training Videos](https://www.tableau.com/learn/training)"
   ]
  },
  {
   "cell_type": "markdown",
   "id": "83c549a1-69b5-4a85-8fe1-2931cf58e1d3",
   "metadata": {},
   "source": [
    "## Challenge 1\n",
    "           \n",
    "To complete this lab, follow each of the steps below.\n",
    "\n",
    "1. Open Tableau and import the `nfl_football_team_stats.csv` file.\n",
    "2. Change the data type of the `Year` field to string.\n",
    "    - We change `Year` to string because in this lab we treat it as a categorical data. In some uncommon cases Tableau has issues by treating year as a number when we use it as categorical variable. \n",
    "    - In a lot of times software has bugs and data analysts need to document these issues and their work-around so that they know how to avoid the same issues in their future work."
   ]
  },
  {
   "cell_type": "markdown",
   "id": "3a1265c3-b78b-4364-9812-14d3a9217527",
   "metadata": {},
   "source": [
    "3. Let's start our analysis by looking at the number of games played per year. \n",
    "    1. Drag the `nfl_football_team_stats.csv (Count)` measure to Rows.\n",
    "    1. Drag the `Year` dimension to Columns.\n",
    "    1. You now see a bar chart with `Number of Records` as the Y axis and `Year` as the X axis.\n",
    "    1. You should also notice that 2017 has fewer games than previous years. Guess why? Yes, it indicates this data was likely collected midway through the 2017 season. This is something we should keep in mind, especially when comparing sums of statistics across seasons.\n",
    "    1. You're almost there. However, this visualization is still not \"number of games played per year\". Why? How to fix the issue?\n",
    "        * *Hint: read the actual data to figure out why. And modify the Rows formula to fix the issue.*\n",
    "    1. After you fix the measure, drag it from *Rows* to *Measures* to create a new measure. Rename it to `Number of Games` so that you can reuse it later."
   ]
  },
  {
   "cell_type": "code",
   "execution_count": 4,
   "id": "11a64545-cb95-4983-a3a9-93444b1b70fb",
   "metadata": {},
   "outputs": [],
   "source": [
    "# Screenshot from Tableau with my solution"
   ]
  },
  {
   "cell_type": "markdown",
   "id": "d3f721b7-0f63-4470-9f50-6ca404f631db",
   "metadata": {},
   "source": [
    "<div>\n",
    "    <img src=\"./images/w11_02_01.png\" width=\"600\"/>\n",
    "</div>"
   ]
  },
  {
   "cell_type": "markdown",
   "id": "427816a8-ad70-4e1a-9113-a33a774f673d",
   "metadata": {},
   "source": [
    "4. Now we want to visualize the win/loss proportions of each team by year using pie charts. Follow the steps below:\n",
    "    1. Create another worksheet that contains a tabular visualization with the number of records by `Team`. This can be achieved by dragging the `Number of Records` measure to Rows, then dragging the `Team` dimension into the `Number of Records` bar in the visualization panel.\n",
    "    1. Drag the `Year` and `Result` dimensions into Columns so that we can see the number of wins vs. losses for each team and year.\n",
    "    1. From the *Show Me* menu at the top right of the screen, select the pie chart visualization. This will create a pie chart for each team-year combination showing the proportion of wins to losses.\n",
    "    1. Make sure that the `Team` field is in the *Row* section and the `Year` field is in the *Columns* section after you add the pie charts. Tableau will sometimes reverse the axes when you change visualizations. If Tableau reversed the axes, go to the *Analysis* menu option and select *Swap Rows and Columns*.\n",
    "    1. Change the pie chart colors so that the wins are red and the losses are blue by clicking on *Color* in the *Marks* menu.\n",
    "    1. Add data labels by dragging the `Number of Records` measure to the Labels square in the *Marks* section.\n",
    "    1. Change the drop-down selection at the top center of the screen from Standard to Fit Width so that you can see all the win/loss pie charts for a team across years."
   ]
  },
  {
   "cell_type": "code",
   "execution_count": 4,
   "id": "2eb00ec2-42d0-4f49-bb34-38791da664a0",
   "metadata": {},
   "outputs": [],
   "source": [
    "# Screenshot from Tableau with my solution"
   ]
  },
  {
   "cell_type": "markdown",
   "id": "e994b733-be3c-454b-88ab-66e3c2a82129",
   "metadata": {},
   "source": [
    "<div>\n",
    "    <img src=\"./images/w11_02_02.png\" width=\"1000\"/>\n",
    "</div>"
   ]
  },
  {
   "cell_type": "markdown",
   "id": "33d0f413-7f15-42ac-b576-55abdfff0723",
   "metadata": {},
   "source": [
    "5. Let's try to determine whether playing at home or away has an impact on how often a team wins.\n",
    "    - Create a new sheet that contains a side-by-side bar chart showing `Number of Records` by `Result` and `Game Location` (columns). We should be able to see from this visualization that the home team has won approximately 280 more games than the away team over the last several years. Considering the total number of games, do you think this advantage is significant?\n"
   ]
  },
  {
   "cell_type": "code",
   "execution_count": 4,
   "id": "298210f2-9d62-4d32-b66b-706c3e90f9a3",
   "metadata": {},
   "outputs": [],
   "source": [
    "# Screenshot from Tableau with my solution"
   ]
  },
  {
   "cell_type": "markdown",
   "id": "61a9a054-afba-4378-9be7-2305dde6c776",
   "metadata": {},
   "source": [
    "<div>\n",
    "    <img src=\"./images/w11_02_03.png\" width=\"600\"/>\n",
    "</div>"
   ]
  },
  {
   "cell_type": "markdown",
   "id": "c4b4ca9c-43c2-43da-842b-ec8f288ed6a2",
   "metadata": {},
   "source": [
    "6. We can determine a team's effectiveness on offense and defense by the number points they score and then number of points their opponents score on the respectively.\n",
    "    - Create a scatter plot that shows `Average Team Score` (rows) and `Average Opponents Score` (columns) with a different color plot point for each team (drag the Team field to the color box in the Marks section).\n",
    "    - Also drag the `Team` field to the *Labels* box so that the team names display next to their plot points where possible.\n",
    "    - You will notice that the plot points are pretty tightly clustered together in the upper right hand corner of the chart. Adjust both axes to start at 16 so that we can get a closer view of the relationships between points scored and points allowed. You can do this by right-clicking on each axis, selecting *Edit Axis*, and setting it to Fixed with a start value of 16."
   ]
  },
  {
   "cell_type": "code",
   "execution_count": 4,
   "id": "6593bdc4-6cd1-4ed2-a760-5d27f2a9a815",
   "metadata": {},
   "outputs": [],
   "source": [
    "# Screenshot from Tableau with my solution"
   ]
  },
  {
   "cell_type": "markdown",
   "id": "643872e4-b25d-4f47-9a2b-bc2b9004ed5d",
   "metadata": {},
   "source": [
    "<div>\n",
    "    <img src=\"./images/w11_02_04.png\" width=\"1000\"/>\n",
    "</div>"
   ]
  },
  {
   "cell_type": "markdown",
   "id": "0b55ad53-8957-4b60-bbff-d65ea6402170",
   "metadata": {},
   "source": [
    "7. Next, we will look at passing statistics in Year 2016, which will show us how strong a team's passing abilities are.\n",
    "    - Create a new sheet containing a tabular visualization that shows `Passing Attempts` and `Passing Completions`  measures (Columns) by Team (Rows).\n",
    "    - Filter the data for just 2016 by dragging the Year field into the Filters section and selecting 2016 from the options presented.\n",
    "    - Create a calculated field (Analysis > Create Calculated Field) called Completion Percentage that represents Passing Completions divided by Passing Attempts and add it to your tabular visualization. By default, Tableau will sum it, so you will need to change it to show the average. To do this, click on the drop-down arrow of the metric in ***Measure Values***, select *Measure*, and change the selection from *Sum* to *Average*.\n",
    "        - Note you don't want to change the *Measure* in ***Marks*** because it will change all your meansures including `SUM(Passing Completions)`, `SUM(Passing Attempts)`, and `SUM(Completion Percentage)`. You only want to change `SUM(Completion Percentage)` to `AVG(Completion Percentage)`.\n",
    "    - Change the number format for the Completion Percentage field to percentage. The procedure is similar to changing its *average* measure in the previous step.\n",
    "    - Finally, sort your visualization by Average Completion Percentage. Which team in 2016 had the highest percent of pass completions?"
   ]
  },
  {
   "cell_type": "code",
   "execution_count": 4,
   "id": "966157df-1542-4489-b468-e85bca165776",
   "metadata": {},
   "outputs": [],
   "source": [
    "# Screenshot from Tableau with my solution"
   ]
  },
  {
   "cell_type": "markdown",
   "id": "94d2c7ca-4903-428a-9aaf-a70cefac092e",
   "metadata": {},
   "source": [
    "<div>\n",
    "    <img src=\"./images/w11_02_05.png\" width=\"1000\"/>\n",
    "</div>"
   ]
  },
  {
   "cell_type": "markdown",
   "id": "d113d09a-8c53-40ca-be8e-e2857a62328a",
   "metadata": {},
   "source": [
    "8. Let's look at Percentage Completion as a more interesting visualization than just a table.\n",
    "    - Create a *treemap* visualization containing labels for Team and Average Completion Percentage.\n",
    "    - Average Completion Percentage should inform both the size of the boxes and the colors. For the colors, choose the Red-Blue Diverging palette so that teams with high percentages are colored blue and ones with low percentages are colored red.\n",
    "    - Filter the data for 2017 by dragging the Year field into the Filter section and see how the visualization changes. You can also add a filter box by selecting *Analysis > Filters > Year*. Change the filter to 2016 and then to 2015 using the filter box we just added and note how the visualization changes."
   ]
  },
  {
   "cell_type": "code",
   "execution_count": 4,
   "id": "fc136575-a897-4bc5-bab8-9598e2d45ad9",
   "metadata": {},
   "outputs": [],
   "source": [
    "# Screenshot from Tableau with my solution"
   ]
  },
  {
   "cell_type": "markdown",
   "id": "02d235bd-46a9-46e3-b501-5421ff7ebd30",
   "metadata": {},
   "source": [
    "<div>\n",
    "    <img src=\"./images/w11_02_06.png\" width=\"1000\"/>\n",
    "</div>"
   ]
  },
  {
   "cell_type": "markdown",
   "id": "db476dc1-4a0e-4ae1-8e97-fcb94c8da965",
   "metadata": {},
   "source": [
    "9. Let's look at how some defensive statistics - specifically, the average number of sacks, interceptions, and safeties for each team when they win.\n",
    "    - Start by creating a new sheet containing a tabular visualization showing Average Sacks, Average Interceptions, and Average Safeties by Team (rows). Remember that Tableau will sum each of the measures by default, so you will need to change each measure to display the average instead of the sum. To do this, click on the drop-down arrow for each metric, select *Measure*, and change the selection from *Sum* to *Average*.\n",
    "    - Filter the data for only games the teams won by by dragging the Result field to the Filters section and selecting Win.\n",
    "    - Open the Show Me menu in the upper right hand corner of the screen and select the horizontal bar chart option. You should see a set of horizontal bars for each metric we chose for each team.\n",
    "    - Add labels and colors for each metric by dragging the metric onto the appropriate box within the Marks section. Notice that each metric has it's own subsection within the Marks section, so make sure you are dragging over the appropriate metric."
   ]
  },
  {
   "cell_type": "code",
   "execution_count": 4,
   "id": "b73fc99d-2077-475a-b936-53a53dbe9224",
   "metadata": {},
   "outputs": [],
   "source": [
    "# Screenshot from Tableau with my solution"
   ]
  },
  {
   "cell_type": "markdown",
   "id": "24955288-bd0d-45dc-9452-d281928932f3",
   "metadata": {},
   "source": [
    "<div>\n",
    "    <img src=\"./images/w11_02_07.png\" width=\"1000\"/>\n",
    "</div>"
   ]
  },
  {
   "cell_type": "markdown",
   "id": "472b3649-9c38-4b27-b301-facfe85f89f1",
   "metadata": {},
   "source": [
    "10. Let's create one last visualization that shows how well each team's defense prevents its opponents from scoring.\n",
    "    - Create a new sheet containing a tabular visualization that shows Opponent Score by Team. Remember that Tableau will sum each of the measures by default, so you will need to change each measure to display the average instead of the sum. To do this, click on the drop-down arrow for this metric, select *Measure*, and change the selection from *Sum* to *Average*. This will show us the average number of points each team has allowed their opponents to score against them.\n",
    "    - Suppose we wanted to see not only the overall averages but also how widely that varied based on the opposition. We could view this with a box-and-whisker plot visualization. To create one, select box-and-whisker plot from the *Show Me* menu at the top right of the screen.\n",
    "    - To get our plot to show what we want, we will need to make a few adjustments. Move the Team field pill that is currently in the Marks section to the Columns section. This will produce a column for each team.\n",
    "    - Next, we will need to drag and drop the Opponent field into the Details box of the Marks section. This will expand the box and whiskers in the visualization, allowing us to see how the averages vary based on the opposing team instead of just the overall average."
   ]
  },
  {
   "cell_type": "code",
   "execution_count": 4,
   "id": "2541c009-3ee7-4160-99db-5afaef10c925",
   "metadata": {},
   "outputs": [],
   "source": [
    "# Screenshot from Tableau with my solution"
   ]
  },
  {
   "cell_type": "markdown",
   "id": "da2f758c-752c-4c0c-9467-68d058c5aee5",
   "metadata": {},
   "source": [
    "<div>\n",
    "    <img src=\"./images/w11_02_08.png\" width=\"1000\"/>\n",
    "</div>"
   ]
  },
  {
   "cell_type": "markdown",
   "id": "cdebc371-249c-4443-86d7-ce93d614e502",
   "metadata": {},
   "source": [
    "11. Let's combine some of the visualizations we have created into a dashboard.\n",
    "    - Create a dashboard by going to *Dashboard > New Dashboard*.\n",
    "    - Add 2-3 visualizations you created to the dashboard by dragging and dropping each sheet to the dashboard.\n",
    "    - If your dashboard is too small, you can change its size by selecting the *Size* dropdown from *Fixed Size* to *Automatic*. Tableau will then automatically resize the visualizations to the screen.\n",
    "    - In *Automatic* size, you can also adjust the height of each visualization charts being displayed to achieve the optimal visual effect.\n",
    "    - Add a title to the dashboard by checking the *Show dashboard title* checkbox at the lower left of the screen. Edit the dashboard title to be *NFL Team Performance Dashboard*."
   ]
  },
  {
   "cell_type": "code",
   "execution_count": 4,
   "id": "cf050b4c-8581-4660-ad3a-8a7aed6d630f",
   "metadata": {},
   "outputs": [],
   "source": [
    "# Screenshot from Tableau with my solution"
   ]
  },
  {
   "cell_type": "markdown",
   "id": "fe47fb2e-217f-4724-b777-ae574cb5ff9f",
   "metadata": {},
   "source": [
    "<div>\n",
    "    <img src=\"./images/w11_02_09.png\" width=\"1000\"/>\n",
    "</div>"
   ]
  },
  {
   "cell_type": "markdown",
   "id": "8fd072ef-7d2d-4a36-9ac5-639674c762a8",
   "metadata": {},
   "source": [
    "12. Save your work to Tableau Public, ensure that your workbook is viewable, and copy the URL for the workbook into the deliverables file for this lab."
   ]
  },
  {
   "cell_type": "markdown",
   "id": "e9c925ae-604a-4c76-bc19-0d3b946df8d5",
   "metadata": {},
   "source": [
    "## Visit @ Tableau Public\n",
    "\n",
    "[Click here to visit my LAB solution](https://public.tableau.com/app/profile/altermann/)"
   ]
  },
  {
   "cell_type": "markdown",
   "id": "4fee32b5-34a2-4f06-8840-e905bd2e4ca3",
   "metadata": {},
   "source": [
    "## Bonus Challenge\n",
    "\n",
    "Use the `countries of the world.csv` dataset, create two data visualization maps for:\n",
    "\n",
    "- World GDP Per Capital. Choose a color palette to visualize country GDP Per Capital where deeper color indicates higher GDP Per Capital.\n",
    "\n",
    "- World Population Density by Country. Choose a color palette to visualize country population density where deeper color indicates higher population density.\n",
    "\n",
    "Create a dashboard to display both dataviz maps and save it to Tableau Public. Ensure that your workbook is viewable, and copy the URL for the workbook into the deliverables file for this lab."
   ]
  },
  {
   "cell_type": "code",
   "execution_count": 4,
   "id": "b9d1d38a-16d4-4df8-be4a-80967359c782",
   "metadata": {},
   "outputs": [],
   "source": [
    "# Screenshot from Tableau with my solution"
   ]
  },
  {
   "cell_type": "markdown",
   "id": "d0f6f86a-3201-4295-86cd-f5eab08910cd",
   "metadata": {},
   "source": [
    "<div>\n",
    "    <img src=\"./images/w11_02_10.png\" width=\"1000\"/>\n",
    "</div>"
   ]
  },
  {
   "cell_type": "code",
   "execution_count": 4,
   "id": "e44b6019-eed7-4a16-9cb0-d20f0729f402",
   "metadata": {},
   "outputs": [],
   "source": [
    "# Screenshot from Tableau with my solution"
   ]
  },
  {
   "cell_type": "markdown",
   "id": "3627bd48-e428-4292-b950-e51f8bbe33d2",
   "metadata": {},
   "source": [
    "<div>\n",
    "    <img src=\"./images/w11_02_11.png\" width=\"1000\"/>\n",
    "</div>"
   ]
  },
  {
   "cell_type": "markdown",
   "id": "1a12856c-fea2-4fcd-828b-47619b580b2a",
   "metadata": {},
   "source": [
    "## Visit @ Tableau Public\n",
    "\n",
    "[Click here to visit my LAB solution](https://public.tableau.com/app/profile/altermann/)"
   ]
  },
  {
   "cell_type": "code",
   "execution_count": null,
   "id": "c49db62a-467d-40dc-a3fd-96a8c1a86cff",
   "metadata": {},
   "outputs": [],
   "source": []
  }
 ],
 "metadata": {
  "kernelspec": {
   "display_name": "Python 3",
   "language": "python",
   "name": "python3"
  },
  "language_info": {
   "codemirror_mode": {
    "name": "ipython",
    "version": 3
   },
   "file_extension": ".py",
   "mimetype": "text/x-python",
   "name": "python",
   "nbconvert_exporter": "python",
   "pygments_lexer": "ipython3",
   "version": "3.8.8"
  }
 },
 "nbformat": 4,
 "nbformat_minor": 5
}
